{
 "cells": [
  {
   "cell_type": "code",
   "execution_count": 1,
   "metadata": {},
   "outputs": [],
   "source": [
    "import pandas as pd\n",
    "from binance.client import Client\n",
    "\n",
    "# Initialize Binance Client\n",
    "api_key = 'your_api_key'\n",
    "api_secret = 'your_api_secret'\n",
    "client = Client(api_key, api_secret)\n",
    "\n",
    "# Function to get historical data\n",
    "def get_historical_klines(symbol, interval, start_str, end_str=None):\n",
    "    return client.get_historical_klines(symbol, interval, start_str, end_str)\n",
    "\n",
    "# Get BTC data\n",
    "symbol = \"BTCUSDT\"\n",
    "interval = Client.KLINE_INTERVAL_1HOUR\n",
    "start_str = \"1 Jan, 2020\"\n",
    "end_str = \"1 Jan, 2024\"\n",
    "klines = get_historical_klines(symbol, interval, start_str, end_str)\n",
    "\n",
    "# Convert to DataFrame\n",
    "df = pd.DataFrame(klines, columns=['timestamp', 'open', 'high', 'low', 'close', 'volume', 'close_time', \n",
    "                                   'quote_asset_volume', 'number_of_trades', 'taker_buy_base_asset_volume', \n",
    "                                   'taker_buy_quote_asset_volume', 'ignore'])\n",
    "df['timestamp'] = pd.to_datetime(df['timestamp'], unit='ms')\n",
    "df.set_index('timestamp', inplace=True)\n",
    "df = df[['open', 'high', 'low', 'close', 'volume']].astype(float)"
   ]
  },
  {
   "cell_type": "code",
   "execution_count": 2,
   "metadata": {},
   "outputs": [
    {
     "name": "stdout",
     "output_type": "stream",
     "text": [
      "                         open      high       low     close       volume\n",
      "timestamp                                                               \n",
      "2020-01-01 00:00:00   7195.24   7196.25   7175.46   7177.02   511.814901\n",
      "2020-01-01 01:00:00   7176.47   7230.00   7175.71   7216.27   883.052603\n",
      "2020-01-01 02:00:00   7215.52   7244.87   7211.41   7242.85   655.156809\n",
      "2020-01-01 03:00:00   7242.66   7245.00   7220.00   7225.01   783.724867\n",
      "2020-01-01 04:00:00   7225.00   7230.00   7215.03   7217.27   467.812578\n",
      "...                       ...       ...       ...       ...          ...\n",
      "2023-12-31 20:00:00  42619.04  42680.36  42504.56  42558.01  1015.140350\n",
      "2023-12-31 21:00:00  42558.02  42670.44  42520.72  42520.72   923.438130\n",
      "2023-12-31 22:00:00  42520.73  42591.10  42056.00  42257.88  1811.594110\n",
      "2023-12-31 23:00:00  42257.89  42345.65  42066.00  42283.58  1710.137210\n",
      "2024-01-01 00:00:00  42283.58  42554.57  42261.02  42475.23  1271.681080\n",
      "\n",
      "[35033 rows x 5 columns]\n"
     ]
    }
   ],
   "source": [
    "print(df)"
   ]
  }
 ],
 "metadata": {
  "kernelspec": {
   "display_name": "Python 3",
   "language": "python",
   "name": "python3"
  },
  "language_info": {
   "codemirror_mode": {
    "name": "ipython",
    "version": 3
   },
   "file_extension": ".py",
   "mimetype": "text/x-python",
   "name": "python",
   "nbconvert_exporter": "python",
   "pygments_lexer": "ipython3",
   "version": "3.9.13"
  }
 },
 "nbformat": 4,
 "nbformat_minor": 2
}
