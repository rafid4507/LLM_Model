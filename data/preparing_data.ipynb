{
 "cells": [
  {
   "cell_type": "markdown",
   "metadata": {},
   "source": [
    "## I had already collected and formatted the data. More details in \"data_collection.ipynb\" and \"data_with_sentiment.ipynb\" file."
   ]
  },
  {
   "cell_type": "code",
   "execution_count": 66,
   "metadata": {},
   "outputs": [],
   "source": [
    "import pandas as pd"
   ]
  },
  {
   "cell_type": "markdown",
   "metadata": {},
   "source": [
    "dataset i have created earlier had to preprocess to train the model."
   ]
  },
  {
   "cell_type": "code",
   "execution_count": 67,
   "metadata": {},
   "outputs": [],
   "source": [
    "btc = pd.read_csv(\"merged_data.csv\")"
   ]
  },
  {
   "cell_type": "code",
   "execution_count": 68,
   "metadata": {},
   "outputs": [],
   "source": [
    "# Converting the 'timestamp' column to datetime\n",
    "btc['timestamp'] = pd.to_datetime(btc['timestamp'])\n",
    "\n",
    "# Setting the 'timestamp' column as the index. its better for the working purpose as it is time series, so serial and date matters.\n",
    "btc.set_index('timestamp', inplace=True)"
   ]
  },
  {
   "cell_type": "markdown",
   "metadata": {},
   "source": [
    "merged_comments and target is not necessary. As I already have the sentiment score."
   ]
  },
  {
   "cell_type": "code",
   "execution_count": 69,
   "metadata": {},
   "outputs": [],
   "source": [
    "del btc[\"merged_comments\"]\n",
    "del btc[\"target\"]"
   ]
  },
  {
   "cell_type": "code",
   "execution_count": 70,
   "metadata": {},
   "outputs": [
    {
     "data": {
      "text/html": [
       "<div>\n",
       "<style scoped>\n",
       "    .dataframe tbody tr th:only-of-type {\n",
       "        vertical-align: middle;\n",
       "    }\n",
       "\n",
       "    .dataframe tbody tr th {\n",
       "        vertical-align: top;\n",
       "    }\n",
       "\n",
       "    .dataframe thead th {\n",
       "        text-align: right;\n",
       "    }\n",
       "</style>\n",
       "<table border=\"1\" class=\"dataframe\">\n",
       "  <thead>\n",
       "    <tr style=\"text-align: right;\">\n",
       "      <th></th>\n",
       "      <th>open</th>\n",
       "      <th>high</th>\n",
       "      <th>low</th>\n",
       "      <th>close</th>\n",
       "      <th>volume</th>\n",
       "      <th>comment_count</th>\n",
       "      <th>sentiment_score</th>\n",
       "    </tr>\n",
       "    <tr>\n",
       "      <th>timestamp</th>\n",
       "      <th></th>\n",
       "      <th></th>\n",
       "      <th></th>\n",
       "      <th></th>\n",
       "      <th></th>\n",
       "      <th></th>\n",
       "      <th></th>\n",
       "    </tr>\n",
       "  </thead>\n",
       "  <tbody>\n",
       "    <tr>\n",
       "      <th>2020-01-22 07:00:00</th>\n",
       "      <td>8753.66</td>\n",
       "      <td>8818.00</td>\n",
       "      <td>8706.07</td>\n",
       "      <td>8740.27</td>\n",
       "      <td>2896.788689</td>\n",
       "      <td>1.0</td>\n",
       "      <td>0.0</td>\n",
       "    </tr>\n",
       "    <tr>\n",
       "      <th>2020-01-22 08:00:00</th>\n",
       "      <td>8740.49</td>\n",
       "      <td>8746.34</td>\n",
       "      <td>8656.00</td>\n",
       "      <td>8678.69</td>\n",
       "      <td>3374.764471</td>\n",
       "      <td>0.0</td>\n",
       "      <td>0.0</td>\n",
       "    </tr>\n",
       "    <tr>\n",
       "      <th>2020-01-22 09:00:00</th>\n",
       "      <td>8678.67</td>\n",
       "      <td>8688.99</td>\n",
       "      <td>8643.31</td>\n",
       "      <td>8686.28</td>\n",
       "      <td>1638.063198</td>\n",
       "      <td>0.0</td>\n",
       "      <td>0.0</td>\n",
       "    </tr>\n",
       "    <tr>\n",
       "      <th>2020-01-22 10:00:00</th>\n",
       "      <td>8684.56</td>\n",
       "      <td>8686.68</td>\n",
       "      <td>8651.00</td>\n",
       "      <td>8663.36</td>\n",
       "      <td>1303.479686</td>\n",
       "      <td>0.0</td>\n",
       "      <td>0.0</td>\n",
       "    </tr>\n",
       "    <tr>\n",
       "      <th>2020-01-22 11:00:00</th>\n",
       "      <td>8662.90</td>\n",
       "      <td>8670.49</td>\n",
       "      <td>8622.00</td>\n",
       "      <td>8659.87</td>\n",
       "      <td>1708.384236</td>\n",
       "      <td>0.0</td>\n",
       "      <td>0.0</td>\n",
       "    </tr>\n",
       "    <tr>\n",
       "      <th>...</th>\n",
       "      <td>...</td>\n",
       "      <td>...</td>\n",
       "      <td>...</td>\n",
       "      <td>...</td>\n",
       "      <td>...</td>\n",
       "      <td>...</td>\n",
       "      <td>...</td>\n",
       "    </tr>\n",
       "    <tr>\n",
       "      <th>2023-12-31 20:00:00</th>\n",
       "      <td>42619.04</td>\n",
       "      <td>42680.36</td>\n",
       "      <td>42504.56</td>\n",
       "      <td>42558.01</td>\n",
       "      <td>1015.140350</td>\n",
       "      <td>0.0</td>\n",
       "      <td>0.0</td>\n",
       "    </tr>\n",
       "    <tr>\n",
       "      <th>2023-12-31 21:00:00</th>\n",
       "      <td>42558.02</td>\n",
       "      <td>42670.44</td>\n",
       "      <td>42520.72</td>\n",
       "      <td>42520.72</td>\n",
       "      <td>923.438130</td>\n",
       "      <td>0.0</td>\n",
       "      <td>0.0</td>\n",
       "    </tr>\n",
       "    <tr>\n",
       "      <th>2023-12-31 22:00:00</th>\n",
       "      <td>42520.73</td>\n",
       "      <td>42591.10</td>\n",
       "      <td>42056.00</td>\n",
       "      <td>42257.88</td>\n",
       "      <td>1811.594110</td>\n",
       "      <td>0.0</td>\n",
       "      <td>0.0</td>\n",
       "    </tr>\n",
       "    <tr>\n",
       "      <th>2023-12-31 23:00:00</th>\n",
       "      <td>42257.89</td>\n",
       "      <td>42345.65</td>\n",
       "      <td>42066.00</td>\n",
       "      <td>42283.58</td>\n",
       "      <td>1710.137210</td>\n",
       "      <td>0.0</td>\n",
       "      <td>0.0</td>\n",
       "    </tr>\n",
       "    <tr>\n",
       "      <th>2024-01-01 00:00:00</th>\n",
       "      <td>42283.58</td>\n",
       "      <td>42554.57</td>\n",
       "      <td>42261.02</td>\n",
       "      <td>42475.23</td>\n",
       "      <td>1271.681080</td>\n",
       "      <td>0.0</td>\n",
       "      <td>0.0</td>\n",
       "    </tr>\n",
       "  </tbody>\n",
       "</table>\n",
       "<p>34522 rows × 7 columns</p>\n",
       "</div>"
      ],
      "text/plain": [
       "                         open      high       low     close       volume  \\\n",
       "timestamp                                                                  \n",
       "2020-01-22 07:00:00   8753.66   8818.00   8706.07   8740.27  2896.788689   \n",
       "2020-01-22 08:00:00   8740.49   8746.34   8656.00   8678.69  3374.764471   \n",
       "2020-01-22 09:00:00   8678.67   8688.99   8643.31   8686.28  1638.063198   \n",
       "2020-01-22 10:00:00   8684.56   8686.68   8651.00   8663.36  1303.479686   \n",
       "2020-01-22 11:00:00   8662.90   8670.49   8622.00   8659.87  1708.384236   \n",
       "...                       ...       ...       ...       ...          ...   \n",
       "2023-12-31 20:00:00  42619.04  42680.36  42504.56  42558.01  1015.140350   \n",
       "2023-12-31 21:00:00  42558.02  42670.44  42520.72  42520.72   923.438130   \n",
       "2023-12-31 22:00:00  42520.73  42591.10  42056.00  42257.88  1811.594110   \n",
       "2023-12-31 23:00:00  42257.89  42345.65  42066.00  42283.58  1710.137210   \n",
       "2024-01-01 00:00:00  42283.58  42554.57  42261.02  42475.23  1271.681080   \n",
       "\n",
       "                     comment_count  sentiment_score  \n",
       "timestamp                                            \n",
       "2020-01-22 07:00:00            1.0              0.0  \n",
       "2020-01-22 08:00:00            0.0              0.0  \n",
       "2020-01-22 09:00:00            0.0              0.0  \n",
       "2020-01-22 10:00:00            0.0              0.0  \n",
       "2020-01-22 11:00:00            0.0              0.0  \n",
       "...                            ...              ...  \n",
       "2023-12-31 20:00:00            0.0              0.0  \n",
       "2023-12-31 21:00:00            0.0              0.0  \n",
       "2023-12-31 22:00:00            0.0              0.0  \n",
       "2023-12-31 23:00:00            0.0              0.0  \n",
       "2024-01-01 00:00:00            0.0              0.0  \n",
       "\n",
       "[34522 rows x 7 columns]"
      ]
     },
     "execution_count": 70,
     "metadata": {},
     "output_type": "execute_result"
    }
   ],
   "source": [
    "btc = btc.dropna()\n",
    "btc"
   ]
  },
  {
   "cell_type": "code",
   "execution_count": 71,
   "metadata": {},
   "outputs": [
    {
     "data": {
      "text/plain": [
       "<Axes: xlabel='timestamp'>"
      ]
     },
     "execution_count": 71,
     "metadata": {},
     "output_type": "execute_result"
    },
    {
     "data": {
      "image/png": "[encoded data removed]",
      "text/plain": [
       "<Figure size 640x480 with 1 Axes>"
      ]
     },
     "metadata": {},
     "output_type": "display_data"
    }
   ],
   "source": [
    "btc.plot.line(y=\"close\", use_index=True)"
   ]
  },
  {
   "cell_type": "code",
   "execution_count": 72,
   "metadata": {},
   "outputs": [],
   "source": [
    "btc[\"predict\"] = btc[\"close\"].shift(-1)"
   ]
  },
  {
   "cell_type": "markdown",
   "metadata": {},
   "source": [
    "creating the target columns for the model"
   ]
  },
  {
   "cell_type": "code",
   "execution_count": 73,
   "metadata": {},
   "outputs": [],
   "source": [
    "btc[\"target\"] = (btc[\"predict\"] > btc[\"close\"]).astype(int)\n"
   ]
  },
  {
   "cell_type": "markdown",
   "metadata": {},
   "source": [
    "To check that we got balanced dataset"
   ]
  },
  {
   "cell_type": "code",
   "execution_count": 74,
   "metadata": {},
   "outputs": [
    {
     "data": {
      "text/plain": [
       "target\n",
       "1    17542\n",
       "0    16980\n",
       "Name: count, dtype: int64"
      ]
     },
     "execution_count": 74,
     "metadata": {},
     "output_type": "execute_result"
    }
   ],
   "source": [
    "btc[\"target\"].value_counts()"
   ]
  },
  {
   "cell_type": "markdown",
   "metadata": {},
   "source": [
    "saving the dataset"
   ]
  },
  {
   "cell_type": "code",
   "execution_count": 75,
   "metadata": {},
   "outputs": [],
   "source": [
    "btc.to_csv(\"btc_data.csv\")"
   ]
  },
  {
   "cell_type": "markdown",
   "metadata": {},
   "source": [
    "checking if the model is working properly"
   ]
  },
  {
   "cell_type": "code",
   "execution_count": 76,
   "metadata": {},
   "outputs": [
    {
     "data": {
      "text/html": [
       "<style>#sk-container-id-2 {color: black;background-color: white;}#sk-container-id-2 pre{padding: 0;}#sk-container-id-2 div.sk-toggleable {background-color: white;}#sk-container-id-2 label.sk-toggleable__label {cursor: pointer;display: block;width: 100%;margin-bottom: 0;padding: 0.3em;box-sizing: border-box;text-align: center;}#sk-container-id-2 label.sk-toggleable__label-arrow:before {content: \"▸\";float: left;margin-right: 0.25em;color: #696969;}#sk-container-id-2 label.sk-toggleable__label-arrow:hover:before {color: black;}#sk-container-id-2 div.sk-estimator:hover label.sk-toggleable__label-arrow:before {color: black;}#sk-container-id-2 div.sk-toggleable__content {max-height: 0;max-width: 0;overflow: hidden;text-align: left;background-color: #f0f8ff;}#sk-container-id-2 div.sk-toggleable__content pre {margin: 0.2em;color: black;border-radius: 0.25em;background-color: #f0f8ff;}#sk-container-id-2 input.sk-toggleable__control:checked~div.sk-toggleable__content {max-height: 200px;max-width: 100%;overflow: auto;}#sk-container-id-2 input.sk-toggleable__control:checked~label.sk-toggleable__label-arrow:before {content: \"▾\";}#sk-container-id-2 div.sk-estimator input.sk-toggleable__control:checked~label.sk-toggleable__label {background-color: #d4ebff;}#sk-container-id-2 div.sk-label input.sk-toggleable__control:checked~label.sk-toggleable__label {background-color: #d4ebff;}#sk-container-id-2 input.sk-hidden--visually {border: 0;clip: rect(1px 1px 1px 1px);clip: rect(1px, 1px, 1px, 1px);height: 1px;margin: -1px;overflow: hidden;padding: 0;position: absolute;width: 1px;}#sk-container-id-2 div.sk-estimator {font-family: monospace;background-color: #f0f8ff;border: 1px dotted black;border-radius: 0.25em;box-sizing: border-box;margin-bottom: 0.5em;}#sk-container-id-2 div.sk-estimator:hover {background-color: #d4ebff;}#sk-container-id-2 div.sk-parallel-item::after {content: \"\";width: 100%;border-bottom: 1px solid gray;flex-grow: 1;}#sk-container-id-2 div.sk-label:hover label.sk-toggleable__label {background-color: #d4ebff;}#sk-container-id-2 div.sk-serial::before {content: \"\";position: absolute;border-left: 1px solid gray;box-sizing: border-box;top: 0;bottom: 0;left: 50%;z-index: 0;}#sk-container-id-2 div.sk-serial {display: flex;flex-direction: column;align-items: center;background-color: white;padding-right: 0.2em;padding-left: 0.2em;position: relative;}#sk-container-id-2 div.sk-item {position: relative;z-index: 1;}#sk-container-id-2 div.sk-parallel {display: flex;align-items: stretch;justify-content: center;background-color: white;position: relative;}#sk-container-id-2 div.sk-item::before, #sk-container-id-2 div.sk-parallel-item::before {content: \"\";position: absolute;border-left: 1px solid gray;box-sizing: border-box;top: 0;bottom: 0;left: 50%;z-index: -1;}#sk-container-id-2 div.sk-parallel-item {display: flex;flex-direction: column;z-index: 1;position: relative;background-color: white;}#sk-container-id-2 div.sk-parallel-item:first-child::after {align-self: flex-end;width: 50%;}#sk-container-id-2 div.sk-parallel-item:last-child::after {align-self: flex-start;width: 50%;}#sk-container-id-2 div.sk-parallel-item:only-child::after {width: 0;}#sk-container-id-2 div.sk-dashed-wrapped {border: 1px dashed gray;margin: 0 0.4em 0.5em 0.4em;box-sizing: border-box;padding-bottom: 0.4em;background-color: white;}#sk-container-id-2 div.sk-label label {font-family: monospace;font-weight: bold;display: inline-block;line-height: 1.2em;}#sk-container-id-2 div.sk-label-container {text-align: center;}#sk-container-id-2 div.sk-container {/* jupyter's `normalize.less` sets `[hidden] { display: none; }` but bootstrap.min.css set `[hidden] { display: none !important; }` so we also need the `!important` here to be able to override the default hidden behavior on the sphinx rendered scikit-learn.org. See: https://github.com/scikit-learn/scikit-learn/issues/21755 */display: inline-block !important;position: relative;}#sk-container-id-2 div.sk-text-repr-fallback {display: none;}</style><div id=\"sk-container-id-2\" class=\"sk-top-container\"><div class=\"sk-text-repr-fallback\"><pre>RandomForestClassifier(min_samples_split=50, random_state=42)</pre><b>In a Jupyter environment, please rerun this cell to show the HTML representation or trust the notebook. <br />On GitHub, the HTML representation is unable to render, please try loading this page with nbviewer.org.</b></div><div class=\"sk-container\" hidden><div class=\"sk-item\"><div class=\"sk-estimator sk-toggleable\"><input class=\"sk-toggleable__control sk-hidden--visually\" id=\"sk-estimator-id-2\" type=\"checkbox\" checked><label for=\"sk-estimator-id-2\" class=\"sk-toggleable__label sk-toggleable__label-arrow\">RandomForestClassifier</label><div class=\"sk-toggleable__content\"><pre>RandomForestClassifier(min_samples_split=50, random_state=42)</pre></div></div></div></div></div>"
      ],
      "text/plain": [
       "RandomForestClassifier(min_samples_split=50, random_state=42)"
      ]
     },
     "execution_count": 76,
     "metadata": {},
     "output_type": "execute_result"
    }
   ],
   "source": [
    "from sklearn.ensemble import RandomForestClassifier\n",
    "\n",
    "model = RandomForestClassifier(n_estimators=100, min_samples_split=50, random_state=42)\n",
    "\n",
    "\n",
    "train = btc.iloc[:-200]\n",
    "test = btc[-200:]\n",
    "\n",
    "predictors = [\"close\", \"volume\", \"open\", \"high\", \"low\", \"comment_count\",\"sentiment_score\"]\n",
    "model.fit(train[predictors], train[\"target\"])"
   ]
  },
  {
   "cell_type": "markdown",
   "metadata": {},
   "source": [
    "the prediction is not good, we see only around 50% was correct from the test set. I will try to train a better model. Please check model.ipynb "
   ]
  },
  {
   "cell_type": "code",
   "execution_count": 86,
   "metadata": {},
   "outputs": [
    {
     "data": {
      "text/plain": [
       "0.5789473684210527"
      ]
     },
     "execution_count": 86,
     "metadata": {},
     "output_type": "execute_result"
    }
   ],
   "source": [
    "from sklearn.metrics import precision_score\n",
    "\n",
    "preds = model.predict(test[predictors])\n",
    "preds = pd.Series(preds, index=test.index)\n",
    "precision_score(test[\"target\"], preds)"
   ]
  },
  {
   "cell_type": "markdown",
   "metadata": {},
   "source": [
    "# Backtesting, mantaining the time series and predict fututre"
   ]
  },
  {
   "cell_type": "code",
   "execution_count": 92,
   "metadata": {},
   "outputs": [],
   "source": [
    "def predict(train, test, predictors, model):\n",
    "    model.fit(train[predictors], train[\"target\"])\n",
    "    preds = model.predict(test[predictors])\n",
    "    preds = pd.DataFrame(preds, index=test.index, columns=[\"predictions\"])\n",
    "    return pd.concat([test[\"target\"], preds], axis=1)"
   ]
  },
  {
   "cell_type": "code",
   "execution_count": 93,
   "metadata": {},
   "outputs": [],
   "source": [
    "def backtest(data, model, predictors, start=1095, step=150):\n",
    "    all_predictions = []\n",
    "\n",
    "    for i in range(start, data.shape[0], step):\n",
    "        train = data.iloc[0:i].copy()\n",
    "        test = data.iloc[i:(i+step)].copy()\n",
    "        predictions = predict(train, test, predictors, model)\n",
    "        all_predictions.append(predictions)\n",
    "\n",
    "    return pd.concat(all_predictions)\n"
   ]
  },
  {
   "cell_type": "code",
   "execution_count": 94,
   "metadata": {},
   "outputs": [],
   "source": [
    "from xgboost import XGBClassifier\n",
    "\n",
    "model = XGBClassifier(random_state = 1, learning_rate = .1, n_estimators = 200)\n",
    "predicitons = backtest(btc, model, predictors)"
   ]
  },
  {
   "cell_type": "code",
   "execution_count": 95,
   "metadata": {},
   "outputs": [
    {
     "data": {
      "text/plain": [
       "Index(['target', 'predictions'], dtype='object')"
      ]
     },
     "execution_count": 95,
     "metadata": {},
     "output_type": "execute_result"
    }
   ],
   "source": [
    "predicitons.columns"
   ]
  },
  {
   "cell_type": "code",
   "execution_count": 96,
   "metadata": {},
   "outputs": [
    {
     "data": {
      "text/plain": [
       "0.5120106761565836"
      ]
     },
     "execution_count": 96,
     "metadata": {},
     "output_type": "execute_result"
    }
   ],
   "source": [
    "precision_score(predicitons[\"target\"], predicitons[\"predictions\"])"
   ]
  },
  {
   "cell_type": "code",
   "execution_count": 101,
   "metadata": {},
   "outputs": [],
   "source": [
    "def compute_rolling(btc, horizons=[5, 10, 20]):\n",
    "    new_predictors = []\n",
    "\n",
    "    for horizon in horizons:\n",
    "        rolling_avg = btc.rolling(window=horizon, min_periods=1).mean()\n",
    "        \n",
    "        # Create ratio columns\n",
    "        ratio_column = f\"ratio_{horizon}\"\n",
    "        btc[ratio_column] = btc[\"close\"] / rolling_avg[\"close\"]\n",
    "        new_predictors.append(ratio_column)\n",
    "        \n",
    "        # Ensure 'edit_count' exists in rolling_avg\n",
    "        if 'edit_count' in rolling_avg.columns:\n",
    "            edit_column = f\"edit_{horizon}\"\n",
    "            btc[edit_column] = rolling_avg[\"edit_count\"]\n",
    "            new_predictors.append(edit_column)\n",
    "        else:\n",
    "            print(f\"Column 'edit_count' not found in rolling_avg at horizon {horizon}\")\n",
    "        \n",
    "        # Create trend columns\n",
    "        rolling = btc.rolling(window=horizon, closed=\"left\", min_periods=1).mean()\n",
    "        trend_column = f\"trend_{horizon}\"\n",
    "        btc[trend_column] = btc[\"close\"] / rolling[\"close\"]\n",
    "        new_predictors.append(trend_column)\n",
    "    \n",
    "    return btc, new_predictors"
   ]
  },
  {
   "cell_type": "code",
   "execution_count": 102,
   "metadata": {},
   "outputs": [
    {
     "name": "stdout",
     "output_type": "stream",
     "text": [
      "Column 'edit_count' not found in rolling_avg at horizon 5\n",
      "Column 'edit_count' not found in rolling_avg at horizon 10\n",
      "Column 'edit_count' not found in rolling_avg at horizon 20\n"
     ]
    }
   ],
   "source": [
    "btc, new_predictors = compute_rolling(btc.copy())"
   ]
  },
  {
   "cell_type": "code",
   "execution_count": 103,
   "metadata": {},
   "outputs": [
    {
     "data": {
      "text/html": [
       "<div>\n",
       "<style scoped>\n",
       "    .dataframe tbody tr th:only-of-type {\n",
       "        vertical-align: middle;\n",
       "    }\n",
       "\n",
       "    .dataframe tbody tr th {\n",
       "        vertical-align: top;\n",
       "    }\n",
       "\n",
       "    .dataframe thead th {\n",
       "        text-align: right;\n",
       "    }\n",
       "</style>\n",
       "<table border=\"1\" class=\"dataframe\">\n",
       "  <thead>\n",
       "    <tr style=\"text-align: right;\">\n",
       "      <th></th>\n",
       "      <th>open</th>\n",
       "      <th>high</th>\n",
       "      <th>low</th>\n",
       "      <th>close</th>\n",
       "      <th>volume</th>\n",
       "      <th>comment_count</th>\n",
       "      <th>sentiment_score</th>\n",
       "      <th>predict</th>\n",
       "      <th>target</th>\n",
       "      <th>close_ratio_2</th>\n",
       "      <th>ratio_5</th>\n",
       "      <th>trend_5</th>\n",
       "      <th>ratio_10</th>\n",
       "      <th>trend_10</th>\n",
       "      <th>ratio_20</th>\n",
       "      <th>trend_20</th>\n",
       "    </tr>\n",
       "    <tr>\n",
       "      <th>timestamp</th>\n",
       "      <th></th>\n",
       "      <th></th>\n",
       "      <th></th>\n",
       "      <th></th>\n",
       "      <th></th>\n",
       "      <th></th>\n",
       "      <th></th>\n",
       "      <th></th>\n",
       "      <th></th>\n",
       "      <th></th>\n",
       "      <th></th>\n",
       "      <th></th>\n",
       "      <th></th>\n",
       "      <th></th>\n",
       "      <th></th>\n",
       "      <th></th>\n",
       "    </tr>\n",
       "  </thead>\n",
       "  <tbody>\n",
       "    <tr>\n",
       "      <th>2020-01-22 07:00:00</th>\n",
       "      <td>8753.66</td>\n",
       "      <td>8818.00</td>\n",
       "      <td>8706.07</td>\n",
       "      <td>8740.27</td>\n",
       "      <td>2896.788689</td>\n",
       "      <td>1.0</td>\n",
       "      <td>0.0</td>\n",
       "      <td>8678.69</td>\n",
       "      <td>0</td>\n",
       "      <td>1.000000</td>\n",
       "      <td>1.000000</td>\n",
       "      <td>NaN</td>\n",
       "      <td>1.000000</td>\n",
       "      <td>NaN</td>\n",
       "      <td>1.000000</td>\n",
       "      <td>NaN</td>\n",
       "    </tr>\n",
       "    <tr>\n",
       "      <th>2020-01-22 08:00:00</th>\n",
       "      <td>8740.49</td>\n",
       "      <td>8746.34</td>\n",
       "      <td>8656.00</td>\n",
       "      <td>8678.69</td>\n",
       "      <td>3374.764471</td>\n",
       "      <td>0.0</td>\n",
       "      <td>0.0</td>\n",
       "      <td>8686.28</td>\n",
       "      <td>1</td>\n",
       "      <td>0.996465</td>\n",
       "      <td>0.996465</td>\n",
       "      <td>0.992954</td>\n",
       "      <td>0.996465</td>\n",
       "      <td>0.992954</td>\n",
       "      <td>0.996465</td>\n",
       "      <td>0.992954</td>\n",
       "    </tr>\n",
       "    <tr>\n",
       "      <th>2020-01-22 09:00:00</th>\n",
       "      <td>8678.67</td>\n",
       "      <td>8688.99</td>\n",
       "      <td>8643.31</td>\n",
       "      <td>8686.28</td>\n",
       "      <td>1638.063198</td>\n",
       "      <td>0.0</td>\n",
       "      <td>0.0</td>\n",
       "      <td>8663.36</td>\n",
       "      <td>0</td>\n",
       "      <td>1.000437</td>\n",
       "      <td>0.998223</td>\n",
       "      <td>0.997336</td>\n",
       "      <td>0.998223</td>\n",
       "      <td>0.997336</td>\n",
       "      <td>0.998223</td>\n",
       "      <td>0.997336</td>\n",
       "    </tr>\n",
       "    <tr>\n",
       "      <th>2020-01-22 10:00:00</th>\n",
       "      <td>8684.56</td>\n",
       "      <td>8686.68</td>\n",
       "      <td>8651.00</td>\n",
       "      <td>8663.36</td>\n",
       "      <td>1303.479686</td>\n",
       "      <td>0.0</td>\n",
       "      <td>0.0</td>\n",
       "      <td>8659.87</td>\n",
       "      <td>0</td>\n",
       "      <td>0.998679</td>\n",
       "      <td>0.996688</td>\n",
       "      <td>0.995589</td>\n",
       "      <td>0.996688</td>\n",
       "      <td>0.995589</td>\n",
       "      <td>0.996688</td>\n",
       "      <td>0.995589</td>\n",
       "    </tr>\n",
       "    <tr>\n",
       "      <th>2020-01-22 11:00:00</th>\n",
       "      <td>8662.90</td>\n",
       "      <td>8670.49</td>\n",
       "      <td>8622.00</td>\n",
       "      <td>8659.87</td>\n",
       "      <td>1708.384236</td>\n",
       "      <td>0.0</td>\n",
       "      <td>0.0</td>\n",
       "      <td>8664.50</td>\n",
       "      <td>1</td>\n",
       "      <td>0.999799</td>\n",
       "      <td>0.997027</td>\n",
       "      <td>0.996286</td>\n",
       "      <td>0.997027</td>\n",
       "      <td>0.996286</td>\n",
       "      <td>0.997027</td>\n",
       "      <td>0.996286</td>\n",
       "    </tr>\n",
       "    <tr>\n",
       "      <th>...</th>\n",
       "      <td>...</td>\n",
       "      <td>...</td>\n",
       "      <td>...</td>\n",
       "      <td>...</td>\n",
       "      <td>...</td>\n",
       "      <td>...</td>\n",
       "      <td>...</td>\n",
       "      <td>...</td>\n",
       "      <td>...</td>\n",
       "      <td>...</td>\n",
       "      <td>...</td>\n",
       "      <td>...</td>\n",
       "      <td>...</td>\n",
       "      <td>...</td>\n",
       "      <td>...</td>\n",
       "      <td>...</td>\n",
       "    </tr>\n",
       "    <tr>\n",
       "      <th>2023-12-31 20:00:00</th>\n",
       "      <td>42619.04</td>\n",
       "      <td>42680.36</td>\n",
       "      <td>42504.56</td>\n",
       "      <td>42558.01</td>\n",
       "      <td>1015.140350</td>\n",
       "      <td>0.0</td>\n",
       "      <td>0.0</td>\n",
       "      <td>42520.72</td>\n",
       "      <td>0</td>\n",
       "      <td>0.999283</td>\n",
       "      <td>0.998815</td>\n",
       "      <td>0.999288</td>\n",
       "      <td>1.000348</td>\n",
       "      <td>1.000110</td>\n",
       "      <td>1.002587</td>\n",
       "      <td>1.002812</td>\n",
       "    </tr>\n",
       "    <tr>\n",
       "      <th>2023-12-31 21:00:00</th>\n",
       "      <td>42558.02</td>\n",
       "      <td>42670.44</td>\n",
       "      <td>42520.72</td>\n",
       "      <td>42520.72</td>\n",
       "      <td>923.438130</td>\n",
       "      <td>0.0</td>\n",
       "      <td>0.0</td>\n",
       "      <td>42257.88</td>\n",
       "      <td>0</td>\n",
       "      <td>0.999562</td>\n",
       "      <td>0.998276</td>\n",
       "      <td>0.997940</td>\n",
       "      <td>0.999466</td>\n",
       "      <td>0.999472</td>\n",
       "      <td>1.001296</td>\n",
       "      <td>1.001709</td>\n",
       "    </tr>\n",
       "    <tr>\n",
       "      <th>2023-12-31 22:00:00</th>\n",
       "      <td>42520.73</td>\n",
       "      <td>42591.10</td>\n",
       "      <td>42056.00</td>\n",
       "      <td>42257.88</td>\n",
       "      <td>1811.594110</td>\n",
       "      <td>0.0</td>\n",
       "      <td>0.0</td>\n",
       "      <td>42283.58</td>\n",
       "      <td>1</td>\n",
       "      <td>0.996900</td>\n",
       "      <td>0.993778</td>\n",
       "      <td>0.992105</td>\n",
       "      <td>0.993686</td>\n",
       "      <td>0.993288</td>\n",
       "      <td>0.994903</td>\n",
       "      <td>0.995106</td>\n",
       "    </tr>\n",
       "    <tr>\n",
       "      <th>2023-12-31 23:00:00</th>\n",
       "      <td>42257.89</td>\n",
       "      <td>42345.65</td>\n",
       "      <td>42066.00</td>\n",
       "      <td>42283.58</td>\n",
       "      <td>1710.137210</td>\n",
       "      <td>0.0</td>\n",
       "      <td>0.0</td>\n",
       "      <td>42475.23</td>\n",
       "      <td>1</td>\n",
       "      <td>1.000304</td>\n",
       "      <td>0.996130</td>\n",
       "      <td>0.994382</td>\n",
       "      <td>0.994700</td>\n",
       "      <td>0.994291</td>\n",
       "      <td>0.995382</td>\n",
       "      <td>0.995508</td>\n",
       "    </tr>\n",
       "    <tr>\n",
       "      <th>2024-01-01 00:00:00</th>\n",
       "      <td>42283.58</td>\n",
       "      <td>42554.57</td>\n",
       "      <td>42261.02</td>\n",
       "      <td>42475.23</td>\n",
       "      <td>1271.681080</td>\n",
       "      <td>0.0</td>\n",
       "      <td>0.0</td>\n",
       "      <td>NaN</td>\n",
       "      <td>0</td>\n",
       "      <td>1.002261</td>\n",
       "      <td>1.001324</td>\n",
       "      <td>1.000645</td>\n",
       "      <td>0.999330</td>\n",
       "      <td>0.999208</td>\n",
       "      <td>0.999601</td>\n",
       "      <td>0.999894</td>\n",
       "    </tr>\n",
       "  </tbody>\n",
       "</table>\n",
       "<p>34522 rows × 16 columns</p>\n",
       "</div>"
      ],
      "text/plain": [
       "                         open      high       low     close       volume  \\\n",
       "timestamp                                                                  \n",
       "2020-01-22 07:00:00   8753.66   8818.00   8706.07   8740.27  2896.788689   \n",
       "2020-01-22 08:00:00   8740.49   8746.34   8656.00   8678.69  3374.764471   \n",
       "2020-01-22 09:00:00   8678.67   8688.99   8643.31   8686.28  1638.063198   \n",
       "2020-01-22 10:00:00   8684.56   8686.68   8651.00   8663.36  1303.479686   \n",
       "2020-01-22 11:00:00   8662.90   8670.49   8622.00   8659.87  1708.384236   \n",
       "...                       ...       ...       ...       ...          ...   \n",
       "2023-12-31 20:00:00  42619.04  42680.36  42504.56  42558.01  1015.140350   \n",
       "2023-12-31 21:00:00  42558.02  42670.44  42520.72  42520.72   923.438130   \n",
       "2023-12-31 22:00:00  42520.73  42591.10  42056.00  42257.88  1811.594110   \n",
       "2023-12-31 23:00:00  42257.89  42345.65  42066.00  42283.58  1710.137210   \n",
       "2024-01-01 00:00:00  42283.58  42554.57  42261.02  42475.23  1271.681080   \n",
       "\n",
       "                     comment_count  sentiment_score   predict  target  \\\n",
       "timestamp                                                               \n",
       "2020-01-22 07:00:00            1.0              0.0   8678.69       0   \n",
       "2020-01-22 08:00:00            0.0              0.0   8686.28       1   \n",
       "2020-01-22 09:00:00            0.0              0.0   8663.36       0   \n",
       "2020-01-22 10:00:00            0.0              0.0   8659.87       0   \n",
       "2020-01-22 11:00:00            0.0              0.0   8664.50       1   \n",
       "...                            ...              ...       ...     ...   \n",
       "2023-12-31 20:00:00            0.0              0.0  42520.72       0   \n",
       "2023-12-31 21:00:00            0.0              0.0  42257.88       0   \n",
       "2023-12-31 22:00:00            0.0              0.0  42283.58       1   \n",
       "2023-12-31 23:00:00            0.0              0.0  42475.23       1   \n",
       "2024-01-01 00:00:00            0.0              0.0       NaN       0   \n",
       "\n",
       "                     close_ratio_2   ratio_5   trend_5  ratio_10  trend_10  \\\n",
       "timestamp                                                                    \n",
       "2020-01-22 07:00:00       1.000000  1.000000       NaN  1.000000       NaN   \n",
       "2020-01-22 08:00:00       0.996465  0.996465  0.992954  0.996465  0.992954   \n",
       "2020-01-22 09:00:00       1.000437  0.998223  0.997336  0.998223  0.997336   \n",
       "2020-01-22 10:00:00       0.998679  0.996688  0.995589  0.996688  0.995589   \n",
       "2020-01-22 11:00:00       0.999799  0.997027  0.996286  0.997027  0.996286   \n",
       "...                            ...       ...       ...       ...       ...   \n",
       "2023-12-31 20:00:00       0.999283  0.998815  0.999288  1.000348  1.000110   \n",
       "2023-12-31 21:00:00       0.999562  0.998276  0.997940  0.999466  0.999472   \n",
       "2023-12-31 22:00:00       0.996900  0.993778  0.992105  0.993686  0.993288   \n",
       "2023-12-31 23:00:00       1.000304  0.996130  0.994382  0.994700  0.994291   \n",
       "2024-01-01 00:00:00       1.002261  1.001324  1.000645  0.999330  0.999208   \n",
       "\n",
       "                     ratio_20  trend_20  \n",
       "timestamp                                \n",
       "2020-01-22 07:00:00  1.000000       NaN  \n",
       "2020-01-22 08:00:00  0.996465  0.992954  \n",
       "2020-01-22 09:00:00  0.998223  0.997336  \n",
       "2020-01-22 10:00:00  0.996688  0.995589  \n",
       "2020-01-22 11:00:00  0.997027  0.996286  \n",
       "...                       ...       ...  \n",
       "2023-12-31 20:00:00  1.002587  1.002812  \n",
       "2023-12-31 21:00:00  1.001296  1.001709  \n",
       "2023-12-31 22:00:00  0.994903  0.995106  \n",
       "2023-12-31 23:00:00  0.995382  0.995508  \n",
       "2024-01-01 00:00:00  0.999601  0.999894  \n",
       "\n",
       "[34522 rows x 16 columns]"
      ]
     },
     "execution_count": 103,
     "metadata": {},
     "output_type": "execute_result"
    }
   ],
   "source": [
    "btc"
   ]
  },
  {
   "cell_type": "code",
   "execution_count": 104,
   "metadata": {},
   "outputs": [],
   "source": [
    "predicitons = backtest(btc, model, new_predictors)"
   ]
  },
  {
   "cell_type": "code",
   "execution_count": 105,
   "metadata": {},
   "outputs": [
    {
     "data": {
      "text/plain": [
       "0.534872135503155"
      ]
     },
     "execution_count": 105,
     "metadata": {},
     "output_type": "execute_result"
    }
   ],
   "source": [
    "precision_score(predicitons[\"target\"], predicitons[\"predictions\"])"
   ]
  },
  {
   "cell_type": "code",
   "execution_count": 106,
   "metadata": {},
   "outputs": [
    {
     "data": {
      "text/html": [
       "<div>\n",
       "<style scoped>\n",
       "    .dataframe tbody tr th:only-of-type {\n",
       "        vertical-align: middle;\n",
       "    }\n",
       "\n",
       "    .dataframe tbody tr th {\n",
       "        vertical-align: top;\n",
       "    }\n",
       "\n",
       "    .dataframe thead th {\n",
       "        text-align: right;\n",
       "    }\n",
       "</style>\n",
       "<table border=\"1\" class=\"dataframe\">\n",
       "  <thead>\n",
       "    <tr style=\"text-align: right;\">\n",
       "      <th></th>\n",
       "      <th>target</th>\n",
       "      <th>predictions</th>\n",
       "    </tr>\n",
       "    <tr>\n",
       "      <th>timestamp</th>\n",
       "      <th></th>\n",
       "      <th></th>\n",
       "    </tr>\n",
       "  </thead>\n",
       "  <tbody>\n",
       "    <tr>\n",
       "      <th>2020-03-08 05:00:00</th>\n",
       "      <td>1</td>\n",
       "      <td>0</td>\n",
       "    </tr>\n",
       "    <tr>\n",
       "      <th>2020-03-08 06:00:00</th>\n",
       "      <td>1</td>\n",
       "      <td>1</td>\n",
       "    </tr>\n",
       "    <tr>\n",
       "      <th>2020-03-08 07:00:00</th>\n",
       "      <td>0</td>\n",
       "      <td>0</td>\n",
       "    </tr>\n",
       "    <tr>\n",
       "      <th>2020-03-08 08:00:00</th>\n",
       "      <td>0</td>\n",
       "      <td>0</td>\n",
       "    </tr>\n",
       "    <tr>\n",
       "      <th>2020-03-08 09:00:00</th>\n",
       "      <td>1</td>\n",
       "      <td>1</td>\n",
       "    </tr>\n",
       "    <tr>\n",
       "      <th>...</th>\n",
       "      <td>...</td>\n",
       "      <td>...</td>\n",
       "    </tr>\n",
       "    <tr>\n",
       "      <th>2023-12-31 20:00:00</th>\n",
       "      <td>0</td>\n",
       "      <td>0</td>\n",
       "    </tr>\n",
       "    <tr>\n",
       "      <th>2023-12-31 21:00:00</th>\n",
       "      <td>0</td>\n",
       "      <td>1</td>\n",
       "    </tr>\n",
       "    <tr>\n",
       "      <th>2023-12-31 22:00:00</th>\n",
       "      <td>1</td>\n",
       "      <td>1</td>\n",
       "    </tr>\n",
       "    <tr>\n",
       "      <th>2023-12-31 23:00:00</th>\n",
       "      <td>1</td>\n",
       "      <td>1</td>\n",
       "    </tr>\n",
       "    <tr>\n",
       "      <th>2024-01-01 00:00:00</th>\n",
       "      <td>0</td>\n",
       "      <td>0</td>\n",
       "    </tr>\n",
       "  </tbody>\n",
       "</table>\n",
       "<p>33427 rows × 2 columns</p>\n",
       "</div>"
      ],
      "text/plain": [
       "                     target  predictions\n",
       "timestamp                               \n",
       "2020-03-08 05:00:00       1            0\n",
       "2020-03-08 06:00:00       1            1\n",
       "2020-03-08 07:00:00       0            0\n",
       "2020-03-08 08:00:00       0            0\n",
       "2020-03-08 09:00:00       1            1\n",
       "...                     ...          ...\n",
       "2023-12-31 20:00:00       0            0\n",
       "2023-12-31 21:00:00       0            1\n",
       "2023-12-31 22:00:00       1            1\n",
       "2023-12-31 23:00:00       1            1\n",
       "2024-01-01 00:00:00       0            0\n",
       "\n",
       "[33427 rows x 2 columns]"
      ]
     },
     "execution_count": 106,
     "metadata": {},
     "output_type": "execute_result"
    }
   ],
   "source": [
    "predicitons"
   ]
  }
 ],
 "metadata": {
  "kernelspec": {
   "display_name": "Python 3",
   "language": "python",
   "name": "python3"
  },
  "language_info": {
   "codemirror_mode": {
    "name": "ipython",
    "version": 3
   },
   "file_extension": ".py",
   "mimetype": "text/x-python",
   "name": "python",
   "nbconvert_exporter": "python",
   "pygments_lexer": "ipython3",
   "version": "3.9.13"
  }
 },
 "nbformat": 4,
 "nbformat_minor": 2
}
